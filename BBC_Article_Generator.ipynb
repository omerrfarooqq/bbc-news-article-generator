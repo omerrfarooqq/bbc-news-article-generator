{
 "cells": [
  {
   "cell_type": "code",
   "execution_count": 1,
   "id": "d4476a8f-cf94-4a5d-aad1-185e8b4e5a6b",
   "metadata": {
    "id": "d4476a8f-cf94-4a5d-aad1-185e8b4e5a6b"
   },
   "outputs": [],
   "source": [
    "import pandas as pd\n",
    "import numpy as np\n",
    "import tensorflow as tf\n",
    "import pickle"
   ]
  },
  {
   "cell_type": "code",
   "execution_count": null,
   "id": "Hr4svd9JnYTd",
   "metadata": {
    "colab": {
     "base_uri": "https://localhost:8080/",
     "height": 109
    },
    "id": "Hr4svd9JnYTd",
    "outputId": "44689f4d-1c8f-4177-f098-1fadf8e4db99"
   },
   "outputs": [
    {
     "data": {
      "text/html": [
       "\n",
       "     <input type=\"file\" id=\"files-265cf5d0-cd36-467a-b019-b52c630d8d10\" name=\"files[]\" multiple disabled\n",
       "        style=\"border:none\" />\n",
       "     <output id=\"result-265cf5d0-cd36-467a-b019-b52c630d8d10\">\n",
       "      Upload widget is only available when the cell has been executed in the\n",
       "      current browser session. Please rerun this cell to enable.\n",
       "      </output>\n",
       "      <script>// Copyright 2017 Google LLC\n",
       "//\n",
       "// Licensed under the Apache License, Version 2.0 (the \"License\");\n",
       "// you may not use this file except in compliance with the License.\n",
       "// You may obtain a copy of the License at\n",
       "//\n",
       "//      http://www.apache.org/licenses/LICENSE-2.0\n",
       "//\n",
       "// Unless required by applicable law or agreed to in writing, software\n",
       "// distributed under the License is distributed on an \"AS IS\" BASIS,\n",
       "// WITHOUT WARRANTIES OR CONDITIONS OF ANY KIND, either express or implied.\n",
       "// See the License for the specific language governing permissions and\n",
       "// limitations under the License.\n",
       "\n",
       "/**\n",
       " * @fileoverview Helpers for google.colab Python module.\n",
       " */\n",
       "(function(scope) {\n",
       "function span(text, styleAttributes = {}) {\n",
       "  const element = document.createElement('span');\n",
       "  element.textContent = text;\n",
       "  for (const key of Object.keys(styleAttributes)) {\n",
       "    element.style[key] = styleAttributes[key];\n",
       "  }\n",
       "  return element;\n",
       "}\n",
       "\n",
       "// Max number of bytes which will be uploaded at a time.\n",
       "const MAX_PAYLOAD_SIZE = 100 * 1024;\n",
       "\n",
       "function _uploadFiles(inputId, outputId) {\n",
       "  const steps = uploadFilesStep(inputId, outputId);\n",
       "  const outputElement = document.getElementById(outputId);\n",
       "  // Cache steps on the outputElement to make it available for the next call\n",
       "  // to uploadFilesContinue from Python.\n",
       "  outputElement.steps = steps;\n",
       "\n",
       "  return _uploadFilesContinue(outputId);\n",
       "}\n",
       "\n",
       "// This is roughly an async generator (not supported in the browser yet),\n",
       "// where there are multiple asynchronous steps and the Python side is going\n",
       "// to poll for completion of each step.\n",
       "// This uses a Promise to block the python side on completion of each step,\n",
       "// then passes the result of the previous step as the input to the next step.\n",
       "function _uploadFilesContinue(outputId) {\n",
       "  const outputElement = document.getElementById(outputId);\n",
       "  const steps = outputElement.steps;\n",
       "\n",
       "  const next = steps.next(outputElement.lastPromiseValue);\n",
       "  return Promise.resolve(next.value.promise).then((value) => {\n",
       "    // Cache the last promise value to make it available to the next\n",
       "    // step of the generator.\n",
       "    outputElement.lastPromiseValue = value;\n",
       "    return next.value.response;\n",
       "  });\n",
       "}\n",
       "\n",
       "/**\n",
       " * Generator function which is called between each async step of the upload\n",
       " * process.\n",
       " * @param {string} inputId Element ID of the input file picker element.\n",
       " * @param {string} outputId Element ID of the output display.\n",
       " * @return {!Iterable<!Object>} Iterable of next steps.\n",
       " */\n",
       "function* uploadFilesStep(inputId, outputId) {\n",
       "  const inputElement = document.getElementById(inputId);\n",
       "  inputElement.disabled = false;\n",
       "\n",
       "  const outputElement = document.getElementById(outputId);\n",
       "  outputElement.innerHTML = '';\n",
       "\n",
       "  const pickedPromise = new Promise((resolve) => {\n",
       "    inputElement.addEventListener('change', (e) => {\n",
       "      resolve(e.target.files);\n",
       "    });\n",
       "  });\n",
       "\n",
       "  const cancel = document.createElement('button');\n",
       "  inputElement.parentElement.appendChild(cancel);\n",
       "  cancel.textContent = 'Cancel upload';\n",
       "  const cancelPromise = new Promise((resolve) => {\n",
       "    cancel.onclick = () => {\n",
       "      resolve(null);\n",
       "    };\n",
       "  });\n",
       "\n",
       "  // Wait for the user to pick the files.\n",
       "  const files = yield {\n",
       "    promise: Promise.race([pickedPromise, cancelPromise]),\n",
       "    response: {\n",
       "      action: 'starting',\n",
       "    }\n",
       "  };\n",
       "\n",
       "  cancel.remove();\n",
       "\n",
       "  // Disable the input element since further picks are not allowed.\n",
       "  inputElement.disabled = true;\n",
       "\n",
       "  if (!files) {\n",
       "    return {\n",
       "      response: {\n",
       "        action: 'complete',\n",
       "      }\n",
       "    };\n",
       "  }\n",
       "\n",
       "  for (const file of files) {\n",
       "    const li = document.createElement('li');\n",
       "    li.append(span(file.name, {fontWeight: 'bold'}));\n",
       "    li.append(span(\n",
       "        `(${file.type || 'n/a'}) - ${file.size} bytes, ` +\n",
       "        `last modified: ${\n",
       "            file.lastModifiedDate ? file.lastModifiedDate.toLocaleDateString() :\n",
       "                                    'n/a'} - `));\n",
       "    const percent = span('0% done');\n",
       "    li.appendChild(percent);\n",
       "\n",
       "    outputElement.appendChild(li);\n",
       "\n",
       "    const fileDataPromise = new Promise((resolve) => {\n",
       "      const reader = new FileReader();\n",
       "      reader.onload = (e) => {\n",
       "        resolve(e.target.result);\n",
       "      };\n",
       "      reader.readAsArrayBuffer(file);\n",
       "    });\n",
       "    // Wait for the data to be ready.\n",
       "    let fileData = yield {\n",
       "      promise: fileDataPromise,\n",
       "      response: {\n",
       "        action: 'continue',\n",
       "      }\n",
       "    };\n",
       "\n",
       "    // Use a chunked sending to avoid message size limits. See b/62115660.\n",
       "    let position = 0;\n",
       "    do {\n",
       "      const length = Math.min(fileData.byteLength - position, MAX_PAYLOAD_SIZE);\n",
       "      const chunk = new Uint8Array(fileData, position, length);\n",
       "      position += length;\n",
       "\n",
       "      const base64 = btoa(String.fromCharCode.apply(null, chunk));\n",
       "      yield {\n",
       "        response: {\n",
       "          action: 'append',\n",
       "          file: file.name,\n",
       "          data: base64,\n",
       "        },\n",
       "      };\n",
       "\n",
       "      let percentDone = fileData.byteLength === 0 ?\n",
       "          100 :\n",
       "          Math.round((position / fileData.byteLength) * 100);\n",
       "      percent.textContent = `${percentDone}% done`;\n",
       "\n",
       "    } while (position < fileData.byteLength);\n",
       "  }\n",
       "\n",
       "  // All done.\n",
       "  yield {\n",
       "    response: {\n",
       "      action: 'complete',\n",
       "    }\n",
       "  };\n",
       "}\n",
       "\n",
       "scope.google = scope.google || {};\n",
       "scope.google.colab = scope.google.colab || {};\n",
       "scope.google.colab._files = {\n",
       "  _uploadFiles,\n",
       "  _uploadFilesContinue,\n",
       "};\n",
       "})(self);\n",
       "</script> "
      ],
      "text/plain": [
       "<IPython.core.display.HTML object>"
      ]
     },
     "metadata": {},
     "output_type": "display_data"
    },
    {
     "name": "stdout",
     "output_type": "stream",
     "text": [
      "Saving features.npy to features.npy\n",
      "Saving labels.npy to labels.npy\n"
     ]
    }
   ],
   "source": [
    "from google.colab import files\n",
    "\n",
    "uploaded = files.upload()\n"
   ]
  },
  {
   "cell_type": "code",
   "execution_count": 2,
   "id": "9qZtfanzylL_",
   "metadata": {
    "colab": {
     "base_uri": "https://localhost:8080/"
    },
    "id": "9qZtfanzylL_",
    "outputId": "6a09b313-a28f-4208-c5d1-7ac1ab3bb16e"
   },
   "outputs": [
    {
     "name": "stdout",
     "output_type": "stream",
     "text": [
      "Mounted at /content/drive\n"
     ]
    }
   ],
   "source": [
    "from google.colab import drive\n",
    "drive.mount('/content/drive')\n"
   ]
  },
  {
   "cell_type": "code",
   "execution_count": 3,
   "id": "abbe7291-a069-44c0-9dcf-128f8b8a8118",
   "metadata": {
    "id": "abbe7291-a069-44c0-9dcf-128f8b8a8118"
   },
   "outputs": [],
   "source": [
    "df = pd.read_csv('/content/drive/MyDrive/bbc_news.csv', encoding_errors='replace')\n",
    "\n",
    "df=df[['title','description']].dropna()"
   ]
  },
  {
   "cell_type": "code",
   "execution_count": 4,
   "id": "2593df22-cb55-4fec-9aac-0914666e0bb2",
   "metadata": {
    "colab": {
     "base_uri": "https://localhost:8080/",
     "height": 206
    },
    "id": "2593df22-cb55-4fec-9aac-0914666e0bb2",
    "outputId": "d301b8d4-8380-400e-9da8-e308f71d98b9"
   },
   "outputs": [
    {
     "data": {
      "application/vnd.google.colaboratory.intrinsic+json": {
       "summary": "{\n  \"name\": \"df\",\n  \"rows\": 42115,\n  \"fields\": [\n    {\n      \"column\": \"title\",\n      \"properties\": {\n        \"dtype\": \"string\",\n        \"num_unique_values\": 39653,\n        \"samples\": [\n          \"Ex-officer will not be prosecuted over 10 murders\",\n          \"Woman hit by royal police escort motorbike dies\",\n          \"CEO Secrets: 'Don't be trapped by your job title'\"\n        ],\n        \"semantic_type\": \"\",\n        \"description\": \"\"\n      }\n    },\n    {\n      \"column\": \"description\",\n      \"properties\": {\n        \"dtype\": \"string\",\n        \"num_unique_values\": 38731,\n        \"samples\": [\n          \"Suspicion and frustration flared into crowd unrest and, in the background, an iconic image of a historic rivalry was captured.\",\n          \"The BBC's Celia Hatton breaks down Xi Jinping's caffeine habits, and why they might be a subtle power play.\",\n          \"They've usually got fur coats, but pets still need help to stay warm during wintry weather.\"\n        ],\n        \"semantic_type\": \"\",\n        \"description\": \"\"\n      }\n    }\n  ]\n}",
       "type": "dataframe",
       "variable_name": "df"
      },
      "text/html": [
       "\n",
       "  <div id=\"df-25331472-cb5a-41ac-9b1c-dc3550458f8b\" class=\"colab-df-container\">\n",
       "    <div>\n",
       "<style scoped>\n",
       "    .dataframe tbody tr th:only-of-type {\n",
       "        vertical-align: middle;\n",
       "    }\n",
       "\n",
       "    .dataframe tbody tr th {\n",
       "        vertical-align: top;\n",
       "    }\n",
       "\n",
       "    .dataframe thead th {\n",
       "        text-align: right;\n",
       "    }\n",
       "</style>\n",
       "<table border=\"1\" class=\"dataframe\">\n",
       "  <thead>\n",
       "    <tr style=\"text-align: right;\">\n",
       "      <th></th>\n",
       "      <th>title</th>\n",
       "      <th>description</th>\n",
       "    </tr>\n",
       "  </thead>\n",
       "  <tbody>\n",
       "    <tr>\n",
       "      <th>0</th>\n",
       "      <td>Ukraine: Angry Zelensky vows to punish Russian...</td>\n",
       "      <td>The Ukrainian president says the country will ...</td>\n",
       "    </tr>\n",
       "    <tr>\n",
       "      <th>1</th>\n",
       "      <td>War in Ukraine: Taking cover in a town under a...</td>\n",
       "      <td>Jeremy Bowen was on the frontline in Irpin, as...</td>\n",
       "    </tr>\n",
       "    <tr>\n",
       "      <th>2</th>\n",
       "      <td>Ukraine war 'catastrophic for global food'</td>\n",
       "      <td>One of the world's biggest fertiliser firms sa...</td>\n",
       "    </tr>\n",
       "    <tr>\n",
       "      <th>3</th>\n",
       "      <td>Manchester Arena bombing: Saffie Roussos's par...</td>\n",
       "      <td>The parents of the Manchester Arena bombing's ...</td>\n",
       "    </tr>\n",
       "    <tr>\n",
       "      <th>4</th>\n",
       "      <td>Ukraine conflict: Oil price soars to highest l...</td>\n",
       "      <td>Consumers are feeling the impact of higher ene...</td>\n",
       "    </tr>\n",
       "  </tbody>\n",
       "</table>\n",
       "</div>\n",
       "    <div class=\"colab-df-buttons\">\n",
       "\n",
       "  <div class=\"colab-df-container\">\n",
       "    <button class=\"colab-df-convert\" onclick=\"convertToInteractive('df-25331472-cb5a-41ac-9b1c-dc3550458f8b')\"\n",
       "            title=\"Convert this dataframe to an interactive table.\"\n",
       "            style=\"display:none;\">\n",
       "\n",
       "  <svg xmlns=\"http://www.w3.org/2000/svg\" height=\"24px\" viewBox=\"0 -960 960 960\">\n",
       "    <path d=\"M120-120v-720h720v720H120Zm60-500h600v-160H180v160Zm220 220h160v-160H400v160Zm0 220h160v-160H400v160ZM180-400h160v-160H180v160Zm440 0h160v-160H620v160ZM180-180h160v-160H180v160Zm440 0h160v-160H620v160Z\"/>\n",
       "  </svg>\n",
       "    </button>\n",
       "\n",
       "  <style>\n",
       "    .colab-df-container {\n",
       "      display:flex;\n",
       "      gap: 12px;\n",
       "    }\n",
       "\n",
       "    .colab-df-convert {\n",
       "      background-color: #E8F0FE;\n",
       "      border: none;\n",
       "      border-radius: 50%;\n",
       "      cursor: pointer;\n",
       "      display: none;\n",
       "      fill: #1967D2;\n",
       "      height: 32px;\n",
       "      padding: 0 0 0 0;\n",
       "      width: 32px;\n",
       "    }\n",
       "\n",
       "    .colab-df-convert:hover {\n",
       "      background-color: #E2EBFA;\n",
       "      box-shadow: 0px 1px 2px rgba(60, 64, 67, 0.3), 0px 1px 3px 1px rgba(60, 64, 67, 0.15);\n",
       "      fill: #174EA6;\n",
       "    }\n",
       "\n",
       "    .colab-df-buttons div {\n",
       "      margin-bottom: 4px;\n",
       "    }\n",
       "\n",
       "    [theme=dark] .colab-df-convert {\n",
       "      background-color: #3B4455;\n",
       "      fill: #D2E3FC;\n",
       "    }\n",
       "\n",
       "    [theme=dark] .colab-df-convert:hover {\n",
       "      background-color: #434B5C;\n",
       "      box-shadow: 0px 1px 3px 1px rgba(0, 0, 0, 0.15);\n",
       "      filter: drop-shadow(0px 1px 2px rgba(0, 0, 0, 0.3));\n",
       "      fill: #FFFFFF;\n",
       "    }\n",
       "  </style>\n",
       "\n",
       "    <script>\n",
       "      const buttonEl =\n",
       "        document.querySelector('#df-25331472-cb5a-41ac-9b1c-dc3550458f8b button.colab-df-convert');\n",
       "      buttonEl.style.display =\n",
       "        google.colab.kernel.accessAllowed ? 'block' : 'none';\n",
       "\n",
       "      async function convertToInteractive(key) {\n",
       "        const element = document.querySelector('#df-25331472-cb5a-41ac-9b1c-dc3550458f8b');\n",
       "        const dataTable =\n",
       "          await google.colab.kernel.invokeFunction('convertToInteractive',\n",
       "                                                    [key], {});\n",
       "        if (!dataTable) return;\n",
       "\n",
       "        const docLinkHtml = 'Like what you see? Visit the ' +\n",
       "          '<a target=\"_blank\" href=https://colab.research.google.com/notebooks/data_table.ipynb>data table notebook</a>'\n",
       "          + ' to learn more about interactive tables.';\n",
       "        element.innerHTML = '';\n",
       "        dataTable['output_type'] = 'display_data';\n",
       "        await google.colab.output.renderOutput(dataTable, element);\n",
       "        const docLink = document.createElement('div');\n",
       "        docLink.innerHTML = docLinkHtml;\n",
       "        element.appendChild(docLink);\n",
       "      }\n",
       "    </script>\n",
       "  </div>\n",
       "\n",
       "\n",
       "    <div id=\"df-cc47044b-4073-4020-a73a-b07d6ed32d72\">\n",
       "      <button class=\"colab-df-quickchart\" onclick=\"quickchart('df-cc47044b-4073-4020-a73a-b07d6ed32d72')\"\n",
       "                title=\"Suggest charts\"\n",
       "                style=\"display:none;\">\n",
       "\n",
       "<svg xmlns=\"http://www.w3.org/2000/svg\" height=\"24px\"viewBox=\"0 0 24 24\"\n",
       "     width=\"24px\">\n",
       "    <g>\n",
       "        <path d=\"M19 3H5c-1.1 0-2 .9-2 2v14c0 1.1.9 2 2 2h14c1.1 0 2-.9 2-2V5c0-1.1-.9-2-2-2zM9 17H7v-7h2v7zm4 0h-2V7h2v10zm4 0h-2v-4h2v4z\"/>\n",
       "    </g>\n",
       "</svg>\n",
       "      </button>\n",
       "\n",
       "<style>\n",
       "  .colab-df-quickchart {\n",
       "      --bg-color: #E8F0FE;\n",
       "      --fill-color: #1967D2;\n",
       "      --hover-bg-color: #E2EBFA;\n",
       "      --hover-fill-color: #174EA6;\n",
       "      --disabled-fill-color: #AAA;\n",
       "      --disabled-bg-color: #DDD;\n",
       "  }\n",
       "\n",
       "  [theme=dark] .colab-df-quickchart {\n",
       "      --bg-color: #3B4455;\n",
       "      --fill-color: #D2E3FC;\n",
       "      --hover-bg-color: #434B5C;\n",
       "      --hover-fill-color: #FFFFFF;\n",
       "      --disabled-bg-color: #3B4455;\n",
       "      --disabled-fill-color: #666;\n",
       "  }\n",
       "\n",
       "  .colab-df-quickchart {\n",
       "    background-color: var(--bg-color);\n",
       "    border: none;\n",
       "    border-radius: 50%;\n",
       "    cursor: pointer;\n",
       "    display: none;\n",
       "    fill: var(--fill-color);\n",
       "    height: 32px;\n",
       "    padding: 0;\n",
       "    width: 32px;\n",
       "  }\n",
       "\n",
       "  .colab-df-quickchart:hover {\n",
       "    background-color: var(--hover-bg-color);\n",
       "    box-shadow: 0 1px 2px rgba(60, 64, 67, 0.3), 0 1px 3px 1px rgba(60, 64, 67, 0.15);\n",
       "    fill: var(--button-hover-fill-color);\n",
       "  }\n",
       "\n",
       "  .colab-df-quickchart-complete:disabled,\n",
       "  .colab-df-quickchart-complete:disabled:hover {\n",
       "    background-color: var(--disabled-bg-color);\n",
       "    fill: var(--disabled-fill-color);\n",
       "    box-shadow: none;\n",
       "  }\n",
       "\n",
       "  .colab-df-spinner {\n",
       "    border: 2px solid var(--fill-color);\n",
       "    border-color: transparent;\n",
       "    border-bottom-color: var(--fill-color);\n",
       "    animation:\n",
       "      spin 1s steps(1) infinite;\n",
       "  }\n",
       "\n",
       "  @keyframes spin {\n",
       "    0% {\n",
       "      border-color: transparent;\n",
       "      border-bottom-color: var(--fill-color);\n",
       "      border-left-color: var(--fill-color);\n",
       "    }\n",
       "    20% {\n",
       "      border-color: transparent;\n",
       "      border-left-color: var(--fill-color);\n",
       "      border-top-color: var(--fill-color);\n",
       "    }\n",
       "    30% {\n",
       "      border-color: transparent;\n",
       "      border-left-color: var(--fill-color);\n",
       "      border-top-color: var(--fill-color);\n",
       "      border-right-color: var(--fill-color);\n",
       "    }\n",
       "    40% {\n",
       "      border-color: transparent;\n",
       "      border-right-color: var(--fill-color);\n",
       "      border-top-color: var(--fill-color);\n",
       "    }\n",
       "    60% {\n",
       "      border-color: transparent;\n",
       "      border-right-color: var(--fill-color);\n",
       "    }\n",
       "    80% {\n",
       "      border-color: transparent;\n",
       "      border-right-color: var(--fill-color);\n",
       "      border-bottom-color: var(--fill-color);\n",
       "    }\n",
       "    90% {\n",
       "      border-color: transparent;\n",
       "      border-bottom-color: var(--fill-color);\n",
       "    }\n",
       "  }\n",
       "</style>\n",
       "\n",
       "      <script>\n",
       "        async function quickchart(key) {\n",
       "          const quickchartButtonEl =\n",
       "            document.querySelector('#' + key + ' button');\n",
       "          quickchartButtonEl.disabled = true;  // To prevent multiple clicks.\n",
       "          quickchartButtonEl.classList.add('colab-df-spinner');\n",
       "          try {\n",
       "            const charts = await google.colab.kernel.invokeFunction(\n",
       "                'suggestCharts', [key], {});\n",
       "          } catch (error) {\n",
       "            console.error('Error during call to suggestCharts:', error);\n",
       "          }\n",
       "          quickchartButtonEl.classList.remove('colab-df-spinner');\n",
       "          quickchartButtonEl.classList.add('colab-df-quickchart-complete');\n",
       "        }\n",
       "        (() => {\n",
       "          let quickchartButtonEl =\n",
       "            document.querySelector('#df-cc47044b-4073-4020-a73a-b07d6ed32d72 button');\n",
       "          quickchartButtonEl.style.display =\n",
       "            google.colab.kernel.accessAllowed ? 'block' : 'none';\n",
       "        })();\n",
       "      </script>\n",
       "    </div>\n",
       "\n",
       "    </div>\n",
       "  </div>\n"
      ],
      "text/plain": [
       "                                               title  \\\n",
       "0  Ukraine: Angry Zelensky vows to punish Russian...   \n",
       "1  War in Ukraine: Taking cover in a town under a...   \n",
       "2         Ukraine war 'catastrophic for global food'   \n",
       "3  Manchester Arena bombing: Saffie Roussos's par...   \n",
       "4  Ukraine conflict: Oil price soars to highest l...   \n",
       "\n",
       "                                         description  \n",
       "0  The Ukrainian president says the country will ...  \n",
       "1  Jeremy Bowen was on the frontline in Irpin, as...  \n",
       "2  One of the world's biggest fertiliser firms sa...  \n",
       "3  The parents of the Manchester Arena bombing's ...  \n",
       "4  Consumers are feeling the impact of higher ene...  "
      ]
     },
     "execution_count": 4,
     "metadata": {},
     "output_type": "execute_result"
    }
   ],
   "source": [
    "df.head()"
   ]
  },
  {
   "cell_type": "code",
   "execution_count": 5,
   "id": "edbf4600-ef31-4ca0-8793-b0cf7fb3339e",
   "metadata": {
    "id": "edbf4600-ef31-4ca0-8793-b0cf7fb3339e"
   },
   "outputs": [],
   "source": [
    "def clean_text(text):\n",
    "    text=text.lower()\n",
    "    text=text.replace('\\n',' ').replace('/r',' ')\n",
    "    return ' '.join(text.split())\n",
    "\n",
    "df['title']=df['title'].apply(clean_text)\n",
    "df['description']=df['description'].apply(clean_text)"
   ]
  },
  {
   "cell_type": "code",
   "execution_count": null,
   "id": "928f191c-3110-452b-814e-6744be772b4a",
   "metadata": {
    "id": "928f191c-3110-452b-814e-6744be772b4a"
   },
   "outputs": [],
   "source": [
    "df.head()"
   ]
  },
  {
   "cell_type": "code",
   "execution_count": 6,
   "id": "f71da8f6-6cd9-4f78-aa6e-1dd1a2b96d44",
   "metadata": {
    "colab": {
     "base_uri": "https://localhost:8080/"
    },
    "id": "f71da8f6-6cd9-4f78-aa6e-1dd1a2b96d44",
    "outputId": "2f2b93ae-cdd6-425e-9a30-4b62c4119fa7"
   },
   "outputs": [
    {
     "data": {
      "text/plain": [
       "['ukraine: angry zelensky vows to punish russian atrocities the ukrainian president says the country will not forgive or forget those who murder its civilians.',\n",
       " 'war in ukraine: taking cover in a town under attack jeremy bowen was on the frontline in irpin, as residents came under russian fire while trying to flee.',\n",
       " \"ukraine war 'catastrophic for global food' one of the world's biggest fertiliser firms says the conflict could deliver a shock to food supplies.\",\n",
       " \"manchester arena bombing: saffie roussos's parents on hearing the truth the parents of the manchester arena bombing's youngest victim speak about their life since she died.\",\n",
       " 'ukraine conflict: oil price soars to highest level since 2008 consumers are feeling the impact of higher energy costs as fuel prices and household bills jump.']"
      ]
     },
     "execution_count": 6,
     "metadata": {},
     "output_type": "execute_result"
    }
   ],
   "source": [
    "df['text']=df['title']+ ' '+df['description']\n",
    "corpus=df['text'].tolist()\n",
    "corpus[:5]"
   ]
  },
  {
   "cell_type": "code",
   "execution_count": 7,
   "id": "bcc451fb-99c2-4c00-85c9-c7ff5c5e1b04",
   "metadata": {
    "id": "bcc451fb-99c2-4c00-85c9-c7ff5c5e1b04"
   },
   "outputs": [],
   "source": [
    "vectorizer = tf.keras.layers.TextVectorization()\n",
    "vectorizer.adapt(corpus)"
   ]
  },
  {
   "cell_type": "code",
   "execution_count": null,
   "id": "0c9c69a1-3694-4b46-9c7c-dd303bff0dbf",
   "metadata": {
    "id": "0c9c69a1-3694-4b46-9c7c-dd303bff0dbf"
   },
   "outputs": [],
   "source": [
    "total_words = len(vectorizer.get_vocabulary())\n",
    "total_words"
   ]
  },
  {
   "cell_type": "code",
   "execution_count": null,
   "id": "fc255ea1-a2df-42a0-a028-1cebd6cba1b2",
   "metadata": {
    "collapsed": true,
    "id": "fc255ea1-a2df-42a0-a028-1cebd6cba1b2",
    "jupyter": {
     "outputs_hidden": true
    },
    "scrolled": true
   },
   "outputs": [],
   "source": [
    "for i,j in enumerate(vectorizer.get_vocabulary()):\n",
    "    print (f'{i} : {j}')"
   ]
  },
  {
   "cell_type": "code",
   "execution_count": null,
   "id": "282fd98a-1415-41e4-977b-1b765b9d3169",
   "metadata": {
    "id": "282fd98a-1415-41e4-977b-1b765b9d3169"
   },
   "outputs": [],
   "source": [
    "input_sequences = []\n",
    "\n",
    "for line in corpus:\n",
    "    tokens = vectorizer(tf.constant([line]))[0].numpy()\n",
    "    for i in range(1, len(tokens)):\n",
    "        n_gram_seq = tokens[:i+1]\n",
    "        input_sequences.append(n_gram_seq.tolist())\n",
    "\n"
   ]
  },
  {
   "cell_type": "code",
   "execution_count": null,
   "id": "0261d72c-fb83-4230-a988-940e5d61ad62",
   "metadata": {
    "id": "0261d72c-fb83-4230-a988-940e5d61ad62"
   },
   "outputs": [],
   "source": [
    "max_sequence_len = max(len(seq) for seq in input_sequences)\n",
    "padded_sequences = tf.keras.preprocessing.sequence.pad_sequences(input_sequences, maxlen=max_sequence_len,padding='pre')"
   ]
  },
  {
   "cell_type": "code",
   "execution_count": null,
   "id": "e877bc4a-5722-4913-844a-e5714c7ea120",
   "metadata": {
    "id": "e877bc4a-5722-4913-844a-e5714c7ea120"
   },
   "outputs": [],
   "source": [
    "features = padded_sequences[:,:-1]\n",
    "labels = padded_sequences[:,-1]\n",
    "labels = tf.convert_to_tensor(labels, dtype=tf.int64)"
   ]
  },
  {
   "cell_type": "code",
   "execution_count": null,
   "id": "aaf6308b-516d-4121-8dc0-121d4c40974e",
   "metadata": {
    "id": "aaf6308b-516d-4121-8dc0-121d4c40974e"
   },
   "outputs": [],
   "source": [
    "np.save(\"features.npy\", features)\n",
    "np.save(\"labels.npy\", labels)\n",
    "with open(\"metadata.pkl\", \"wb\") as f:\n",
    "    pickle.dump({\n",
    "        \"max_sequence_len\": max_sequence_len,\n",
    "        \"total_words\": total_words\n",
    "    }, f)"
   ]
  },
  {
   "cell_type": "code",
   "execution_count": 9,
   "id": "1032ae91-2ed2-4128-884d-c3f4fe12cef3",
   "metadata": {
    "id": "1032ae91-2ed2-4128-884d-c3f4fe12cef3"
   },
   "outputs": [],
   "source": [
    "import numpy as np\n",
    "import tensorflow as tf\n",
    "from tensorflow.keras.callbacks import ModelCheckpoint\n",
    "\n",
    "import pickle\n",
    "import os\n",
    "import time"
   ]
  },
  {
   "cell_type": "code",
   "execution_count": 10,
   "id": "55319b1e-20ef-4ca2-a650-ae9c0b94d9b5",
   "metadata": {
    "id": "55319b1e-20ef-4ca2-a650-ae9c0b94d9b5"
   },
   "outputs": [],
   "source": [
    "labels = np.load(\"/content/drive/MyDrive/labels.npy\")"
   ]
  },
  {
   "cell_type": "code",
   "execution_count": 11,
   "id": "aEeErEN1n5FH",
   "metadata": {
    "id": "aEeErEN1n5FH"
   },
   "outputs": [],
   "source": [
    "features = np.load(\"/content/drive/MyDrive/features.npy\")"
   ]
  },
  {
   "cell_type": "code",
   "execution_count": 12,
   "id": "12c9aa3a-ce27-4140-a718-28affa040d06",
   "metadata": {
    "colab": {
     "base_uri": "https://localhost:8080/"
    },
    "id": "12c9aa3a-ce27-4140-a718-28affa040d06",
    "outputId": "a91add0f-2667-499b-a1a7-03c333cc92b9"
   },
   "outputs": [
    {
     "data": {
      "text/plain": [
       "(1099041, 57)"
      ]
     },
     "execution_count": 12,
     "metadata": {},
     "output_type": "execute_result"
    }
   ],
   "source": [
    "features.shape"
   ]
  },
  {
   "cell_type": "code",
   "execution_count": 13,
   "id": "1d5ce10e-d6c8-4ce0-97f0-60107d8b13d5",
   "metadata": {
    "id": "1d5ce10e-d6c8-4ce0-97f0-60107d8b13d5"
   },
   "outputs": [],
   "source": [
    "with open(\"/content/drive/MyDrive/metadata.pkl\", \"rb\") as f:\n",
    "    meta = pickle.load(f)\n",
    "    max_sequence_len = meta[\"max_sequence_len\"]\n",
    "    total_words = meta[\"total_words\"]"
   ]
  },
  {
   "cell_type": "code",
   "execution_count": 14,
   "id": "47ee8d9c-2464-4229-8208-1d93e09d2816",
   "metadata": {
    "id": "47ee8d9c-2464-4229-8208-1d93e09d2816"
   },
   "outputs": [],
   "source": [
    "dataset=tf.data.Dataset.from_tensor_slices((features,labels))\n",
    "dataset = dataset.cache().shuffle(10000).batch(1024).prefetch(tf.data.AUTOTUNE)"
   ]
  },
  {
   "cell_type": "code",
   "execution_count": 17,
   "id": "2e4b4086-1061-46d4-8cb1-fb8d0f946e30",
   "metadata": {
    "colab": {
     "base_uri": "https://localhost:8080/"
    },
    "id": "2e4b4086-1061-46d4-8cb1-fb8d0f946e30",
    "outputId": "d44d664a-1351-4707-e9f5-cb7a5fdb04d3"
   },
   "outputs": [
    {
     "data": {
      "text/plain": [
       "(1099041, 57)"
      ]
     },
     "execution_count": 17,
     "metadata": {},
     "output_type": "execute_result"
    }
   ],
   "source": [
    "features.shape"
   ]
  },
  {
   "cell_type": "code",
   "execution_count": 18,
   "id": "Xp0tnWbBviiI",
   "metadata": {
    "id": "Xp0tnWbBviiI"
   },
   "outputs": [],
   "source": [
    "checkpoint_dir = '/content/drive/MyDrive/my_model_weights'\n",
    "os.makedirs(checkpoint_dir, exist_ok=True)"
   ]
  },
  {
   "cell_type": "code",
   "execution_count": 19,
   "id": "7623176d-f4e8-4d51-ba05-5ec8f3a87671",
   "metadata": {
    "id": "7623176d-f4e8-4d51-ba05-5ec8f3a87671"
   },
   "outputs": [],
   "source": [
    "EMBEDDING_DIM = 64"
   ]
  },
  {
   "cell_type": "code",
   "execution_count": 20,
   "id": "44995da3-d2fb-4856-a57b-4d51d8fbe50f",
   "metadata": {
    "id": "44995da3-d2fb-4856-a57b-4d51d8fbe50f"
   },
   "outputs": [],
   "source": [
    "model = tf.keras.Sequential([\n",
    "    tf.keras.layers.Embedding(input_dim=total_words, output_dim=EMBEDDING_DIM),\n",
    "    tf.keras.layers.Bidirectional(tf.keras.layers.LSTM(512)),\n",
    "    tf.keras.layers.Dense(256, activation='relu'),\n",
    "    tf.keras.layers.Dense(total_words,activation='softmax')\n",
    "])"
   ]
  },
  {
   "cell_type": "code",
   "execution_count": 21,
   "id": "0e047ee7-28f4-4aaa-a1ff-6c32861ed313",
   "metadata": {
    "id": "0e047ee7-28f4-4aaa-a1ff-6c32861ed313"
   },
   "outputs": [],
   "source": [
    "model.compile(\n",
    "    loss='sparse_categorical_crossentropy',\n",
    "    optimizer='adam',\n",
    "    metrics=['accuracy']\n",
    ")"
   ]
  },
  {
   "cell_type": "code",
   "execution_count": 22,
   "id": "qGxVgeCEjCft",
   "metadata": {
    "id": "qGxVgeCEjCft"
   },
   "outputs": [],
   "source": [
    "checkpoint_callback = ModelCheckpoint(\n",
    "    filepath='/content/drive/MyDrive/my_model_weights/epoch_{epoch:04d}.weights.h5',\n",
    "    save_weights_only=True,\n",
    "    save_freq='epoch',\n",
    "    verbose=1\n",
    ")\n"
   ]
  },
  {
   "cell_type": "code",
   "execution_count": 23,
   "id": "YMG8jh1c0Bq2",
   "metadata": {
    "id": "YMG8jh1c0Bq2"
   },
   "outputs": [],
   "source": [
    "model.build(input_shape=(None, max_sequence_len - 1))\n"
   ]
  },
  {
   "cell_type": "code",
   "execution_count": 24,
   "id": "jV7phNevupHx",
   "metadata": {
    "colab": {
     "base_uri": "https://localhost:8080/"
    },
    "id": "jV7phNevupHx",
    "outputId": "2712b07d-b7dc-4766-dcea-4cf21b17ea56"
   },
   "outputs": [
    {
     "name": "stderr",
     "output_type": "stream",
     "text": [
      "/usr/local/lib/python3.11/dist-packages/keras/src/saving/saving_lib.py:757: UserWarning: Skipping variable loading for optimizer 'adam', because it has 2 variables whereas the saved optimizer has 24 variables. \n",
      "  saveable.load_own_variables(weights_store.get(inner_path))\n"
     ]
    }
   ],
   "source": [
    "model.load_weights('/content/drive/MyDrive/my_model_weights/epoch_0067.weights.h5')\n"
   ]
  },
  {
   "cell_type": "code",
   "execution_count": null,
   "id": "KNrmRryV2MJF",
   "metadata": {
    "colab": {
     "base_uri": "https://localhost:8080/"
    },
    "id": "KNrmRryV2MJF",
    "outputId": "96ee3a31-a3c8-42fb-9995-06faac742865"
   },
   "outputs": [
    {
     "name": "stdout",
     "output_type": "stream",
     "text": [
      "Epoch 1/20\n",
      "\u001b[1m1074/1074\u001b[0m \u001b[32m━━━━━━━━━━━━━━━━━━━━\u001b[0m\u001b[37m\u001b[0m \u001b[1m0s\u001b[0m 391ms/step - accuracy: 0.7486 - loss: 1.0340\n",
      "Epoch 1: saving model to /content/drive/MyDrive/my_model_weights/epoch_0001.weights.h5\n",
      "\u001b[1m1074/1074\u001b[0m \u001b[32m━━━━━━━━━━━━━━━━━━━━\u001b[0m\u001b[37m\u001b[0m \u001b[1m421s\u001b[0m 392ms/step - accuracy: 0.7486 - loss: 1.0339\n",
      "Epoch 2/20\n",
      "\u001b[1m1074/1074\u001b[0m \u001b[32m━━━━━━━━━━━━━━━━━━━━\u001b[0m\u001b[37m\u001b[0m \u001b[1m0s\u001b[0m 391ms/step - accuracy: 0.7507 - loss: 1.0253\n",
      "Epoch 2: saving model to /content/drive/MyDrive/my_model_weights/epoch_0002.weights.h5\n",
      "\u001b[1m1074/1074\u001b[0m \u001b[32m━━━━━━━━━━━━━━━━━━━━\u001b[0m\u001b[37m\u001b[0m \u001b[1m421s\u001b[0m 392ms/step - accuracy: 0.7507 - loss: 1.0253\n",
      "Epoch 3/20\n",
      "\u001b[1m1074/1074\u001b[0m \u001b[32m━━━━━━━━━━━━━━━━━━━━\u001b[0m\u001b[37m\u001b[0m \u001b[1m0s\u001b[0m 391ms/step - accuracy: 0.7489 - loss: 1.0279\n",
      "Epoch 3: saving model to /content/drive/MyDrive/my_model_weights/epoch_0003.weights.h5\n",
      "\u001b[1m1074/1074\u001b[0m \u001b[32m━━━━━━━━━━━━━━━━━━━━\u001b[0m\u001b[37m\u001b[0m \u001b[1m421s\u001b[0m 391ms/step - accuracy: 0.7490 - loss: 1.0278\n",
      "Epoch 4/20\n",
      "\u001b[1m1074/1074\u001b[0m \u001b[32m━━━━━━━━━━━━━━━━━━━━\u001b[0m\u001b[37m\u001b[0m \u001b[1m0s\u001b[0m 391ms/step - accuracy: 0.7508 - loss: 1.0211\n",
      "Epoch 4: saving model to /content/drive/MyDrive/my_model_weights/epoch_0004.weights.h5\n",
      "\u001b[1m1074/1074\u001b[0m \u001b[32m━━━━━━━━━━━━━━━━━━━━\u001b[0m\u001b[37m\u001b[0m \u001b[1m421s\u001b[0m 391ms/step - accuracy: 0.7508 - loss: 1.0211\n",
      "Epoch 5/20\n",
      "\u001b[1m1074/1074\u001b[0m \u001b[32m━━━━━━━━━━━━━━━━━━━━\u001b[0m\u001b[37m\u001b[0m \u001b[1m0s\u001b[0m 391ms/step - accuracy: 0.7532 - loss: 1.0120\n",
      "Epoch 5: saving model to /content/drive/MyDrive/my_model_weights/epoch_0005.weights.h5\n",
      "\u001b[1m1074/1074\u001b[0m \u001b[32m━━━━━━━━━━━━━━━━━━━━\u001b[0m\u001b[37m\u001b[0m \u001b[1m421s\u001b[0m 391ms/step - accuracy: 0.7532 - loss: 1.0119\n",
      "Epoch 6/20\n",
      "\u001b[1m1074/1074\u001b[0m \u001b[32m━━━━━━━━━━━━━━━━━━━━\u001b[0m\u001b[37m\u001b[0m \u001b[1m0s\u001b[0m 391ms/step - accuracy: 0.7535 - loss: 1.0078\n",
      "Epoch 6: saving model to /content/drive/MyDrive/my_model_weights/epoch_0006.weights.h5\n",
      "\u001b[1m1074/1074\u001b[0m \u001b[32m━━━━━━━━━━━━━━━━━━━━\u001b[0m\u001b[37m\u001b[0m \u001b[1m443s\u001b[0m 392ms/step - accuracy: 0.7535 - loss: 1.0077\n",
      "Epoch 7/20\n",
      "\u001b[1m1074/1074\u001b[0m \u001b[32m━━━━━━━━━━━━━━━━━━━━\u001b[0m\u001b[37m\u001b[0m \u001b[1m0s\u001b[0m 391ms/step - accuracy: 0.7533 - loss: 1.0091\n",
      "Epoch 7: saving model to /content/drive/MyDrive/my_model_weights/epoch_0007.weights.h5\n",
      "\u001b[1m1074/1074\u001b[0m \u001b[32m━━━━━━━━━━━━━━━━━━━━\u001b[0m\u001b[37m\u001b[0m \u001b[1m442s\u001b[0m 392ms/step - accuracy: 0.7533 - loss: 1.0091\n",
      "Epoch 8/20\n",
      "\u001b[1m1074/1074\u001b[0m \u001b[32m━━━━━━━━━━━━━━━━━━━━\u001b[0m\u001b[37m\u001b[0m \u001b[1m0s\u001b[0m 391ms/step - accuracy: 0.7542 - loss: 1.0057\n",
      "Epoch 8: saving model to /content/drive/MyDrive/my_model_weights/epoch_0008.weights.h5\n",
      "\u001b[1m1074/1074\u001b[0m \u001b[32m━━━━━━━━━━━━━━━━━━━━\u001b[0m\u001b[37m\u001b[0m \u001b[1m420s\u001b[0m 391ms/step - accuracy: 0.7542 - loss: 1.0057\n",
      "Epoch 9/20\n",
      "\u001b[1m1074/1074\u001b[0m \u001b[32m━━━━━━━━━━━━━━━━━━━━\u001b[0m\u001b[37m\u001b[0m \u001b[1m0s\u001b[0m 391ms/step - accuracy: 0.7559 - loss: 0.9967\n",
      "Epoch 9: saving model to /content/drive/MyDrive/my_model_weights/epoch_0009.weights.h5\n",
      "\u001b[1m1074/1074\u001b[0m \u001b[32m━━━━━━━━━━━━━━━━━━━━\u001b[0m\u001b[37m\u001b[0m \u001b[1m420s\u001b[0m 391ms/step - accuracy: 0.7559 - loss: 0.9966\n",
      "Epoch 10/20\n",
      "\u001b[1m1074/1074\u001b[0m \u001b[32m━━━━━━━━━━━━━━━━━━━━\u001b[0m\u001b[37m\u001b[0m \u001b[1m0s\u001b[0m 391ms/step - accuracy: 0.7555 - loss: 0.9950\n",
      "Epoch 10: saving model to /content/drive/MyDrive/my_model_weights/epoch_0010.weights.h5\n",
      "\u001b[1m1074/1074\u001b[0m \u001b[32m━━━━━━━━━━━━━━━━━━━━\u001b[0m\u001b[37m\u001b[0m \u001b[1m421s\u001b[0m 391ms/step - accuracy: 0.7555 - loss: 0.9950\n",
      "Epoch 11/20\n",
      "\u001b[1m1074/1074\u001b[0m \u001b[32m━━━━━━━━━━━━━━━━━━━━\u001b[0m\u001b[37m\u001b[0m \u001b[1m0s\u001b[0m 391ms/step - accuracy: 0.7569 - loss: 0.9902\n",
      "Epoch 11: saving model to /content/drive/MyDrive/my_model_weights/epoch_0011.weights.h5\n",
      "\u001b[1m1074/1074\u001b[0m \u001b[32m━━━━━━━━━━━━━━━━━━━━\u001b[0m\u001b[37m\u001b[0m \u001b[1m442s\u001b[0m 392ms/step - accuracy: 0.7569 - loss: 0.9902\n",
      "Epoch 12/20\n",
      "\u001b[1m1074/1074\u001b[0m \u001b[32m━━━━━━━━━━━━━━━━━━━━\u001b[0m\u001b[37m\u001b[0m \u001b[1m0s\u001b[0m 390ms/step - accuracy: 0.7563 - loss: 0.9899\n",
      "Epoch 12: saving model to /content/drive/MyDrive/my_model_weights/epoch_0012.weights.h5\n",
      "\u001b[1m1074/1074\u001b[0m \u001b[32m━━━━━━━━━━━━━━━━━━━━\u001b[0m\u001b[37m\u001b[0m \u001b[1m420s\u001b[0m 391ms/step - accuracy: 0.7563 - loss: 0.9899\n",
      "Epoch 13/20\n",
      "\u001b[1m1074/1074\u001b[0m \u001b[32m━━━━━━━━━━━━━━━━━━━━\u001b[0m\u001b[37m\u001b[0m \u001b[1m0s\u001b[0m 391ms/step - accuracy: 0.7590 - loss: 0.9808\n",
      "Epoch 13: saving model to /content/drive/MyDrive/my_model_weights/epoch_0013.weights.h5\n",
      "\u001b[1m1074/1074\u001b[0m \u001b[32m━━━━━━━━━━━━━━━━━━━━\u001b[0m\u001b[37m\u001b[0m \u001b[1m420s\u001b[0m 391ms/step - accuracy: 0.7590 - loss: 0.9808\n",
      "Epoch 14/20\n",
      "\u001b[1m1074/1074\u001b[0m \u001b[32m━━━━━━━━━━━━━━━━━━━━\u001b[0m\u001b[37m\u001b[0m \u001b[1m0s\u001b[0m 391ms/step - accuracy: 0.7592 - loss: 0.9777\n",
      "Epoch 14: saving model to /content/drive/MyDrive/my_model_weights/epoch_0014.weights.h5\n",
      "\u001b[1m1074/1074\u001b[0m \u001b[32m━━━━━━━━━━━━━━━━━━━━\u001b[0m\u001b[37m\u001b[0m \u001b[1m421s\u001b[0m 391ms/step - accuracy: 0.7592 - loss: 0.9777\n",
      "Epoch 15/20\n",
      "\u001b[1m1074/1074\u001b[0m \u001b[32m━━━━━━━━━━━━━━━━━━━━\u001b[0m\u001b[37m\u001b[0m \u001b[1m0s\u001b[0m 391ms/step - accuracy: 0.7608 - loss: 0.9726\n",
      "Epoch 15: saving model to /content/drive/MyDrive/my_model_weights/epoch_0015.weights.h5\n",
      "\u001b[1m1074/1074\u001b[0m \u001b[32m━━━━━━━━━━━━━━━━━━━━\u001b[0m\u001b[37m\u001b[0m \u001b[1m421s\u001b[0m 392ms/step - accuracy: 0.7608 - loss: 0.9725\n",
      "Epoch 16/20\n",
      "\u001b[1m1074/1074\u001b[0m \u001b[32m━━━━━━━━━━━━━━━━━━━━\u001b[0m\u001b[37m\u001b[0m \u001b[1m0s\u001b[0m 391ms/step - accuracy: 0.7602 - loss: 0.9751\n",
      "Epoch 16: saving model to /content/drive/MyDrive/my_model_weights/epoch_0016.weights.h5\n",
      "\u001b[1m1074/1074\u001b[0m \u001b[32m━━━━━━━━━━━━━━━━━━━━\u001b[0m\u001b[37m\u001b[0m \u001b[1m421s\u001b[0m 391ms/step - accuracy: 0.7602 - loss: 0.9751\n",
      "Epoch 17/20\n",
      "\u001b[1m 169/1074\u001b[0m \u001b[32m━━━\u001b[0m\u001b[37m━━━━━━━━━━━━━━━━━\u001b[0m \u001b[1m5:53\u001b[0m 390ms/step - accuracy: 0.7410 - loss: 1.0638"
     ]
    }
   ],
   "source": [
    "history = model.fit(\n",
    "    dataset,\n",
    "    epochs=20,\n",
    "    callbacks=[checkpoint_callback],\n",
    "  batch_size=256\n",
    ")"
   ]
  },
  {
   "cell_type": "code",
   "execution_count": 25,
   "id": "InTdCylLLM70",
   "metadata": {
    "id": "InTdCylLLM70"
   },
   "outputs": [],
   "source": [
    "def generate_text(seed_text, next_words=30):\n",
    "    for _ in range(next_words):\n",
    "\n",
    "        token_list = vectorizer([seed_text])[0].numpy()\n",
    "        token_list = tf.keras.preprocessing.sequence.pad_sequences(\n",
    "            [token_list], maxlen=max_sequence_len - 1, padding='pre')\n",
    "\n",
    "\n",
    "        predicted_probs = model.predict(token_list, verbose=0)\n",
    "        predicted_id = np.argmax(predicted_probs, axis=-1)[0]\n",
    "\n",
    "\n",
    "        predicted_word = vectorizer.get_vocabulary()[predicted_id]\n",
    "\n",
    "\n",
    "        seed_text += \" \" + predicted_word\n",
    "\n",
    "    return seed_text\n"
   ]
  },
  {
   "cell_type": "code",
   "execution_count": 40,
   "id": "tC-GUwleLQl1",
   "metadata": {
    "colab": {
     "base_uri": "https://localhost:8080/"
    },
    "id": "tC-GUwleLQl1",
    "outputId": "e63e0831-e599-487c-88f7-7bc389609919"
   },
   "outputs": [
    {
     "name": "stdout",
     "output_type": "stream",
     "text": [
      "zelensky vows to punish russian troops after attack was in the army have said they will move move quickly punishments is being considered and taken by the military forces officials said its important for to response the russian link to russia says\n"
     ]
    }
   ],
   "source": [
    "print(generate_text(\"zelensky vows to punish russian troops\"))"
   ]
  },
  {
   "cell_type": "code",
   "execution_count": 39,
   "id": "3K2K9FIsIKyc",
   "metadata": {
    "colab": {
     "base_uri": "https://localhost:8080/"
    },
    "id": "3K2K9FIsIKyc",
    "outputId": "732e8912-9f13-44ea-9688-1d870e723d21"
   },
   "outputs": [
    {
     "name": "stdout",
     "output_type": "stream",
     "text": [
      "redbull star max verstappen secures another pole position time max verstappen believes his provisional lead the miami he said the lap was great but also not the best best race will continue tomorrow after todays race ended fans clapped for him and cheered loudly more\n"
     ]
    }
   ],
   "source": [
    "print(generate_text(\"redbull star max verstappen secures another pole position\"))"
   ]
  },
  {
   "cell_type": "code",
   "execution_count": 42,
   "id": "JIKh-J1lKEK0",
   "metadata": {
    "colab": {
     "base_uri": "https://localhost:8080/"
    },
    "id": "JIKh-J1lKEK0",
    "outputId": "df22833c-933a-4714-c940-99732cc8c01a"
   },
   "outputs": [
    {
     "name": "stdout",
     "output_type": "stream",
     "text": [
      "pep guardiola says the team must remain focused on liverpools felt raising himself as they slump to 10 games with a game against arsenal mistakes happen when not focus properly\n"
     ]
    }
   ],
   "source": [
    "print(generate_text(\"pep guardiola says the team must remain focused\"))"
   ]
  }
 ],
 "metadata": {
  "accelerator": "GPU",
  "colab": {
   "gpuType": "T4",
   "provenance": []
  },
  "kernelspec": {
   "display_name": "Python (tf-gpu)",
   "language": "python",
   "name": "tf-gpu"
  },
  "language_info": {
   "codemirror_mode": {
    "name": "ipython",
    "version": 3
   },
   "file_extension": ".py",
   "mimetype": "text/x-python",
   "name": "python",
   "nbconvert_exporter": "python",
   "pygments_lexer": "ipython3",
   "version": "3.10.18"
  }
 },
 "nbformat": 4,
 "nbformat_minor": 5
}
